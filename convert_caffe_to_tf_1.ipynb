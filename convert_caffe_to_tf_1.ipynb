{
 "cells": [
  {
   "cell_type": "markdown",
   "metadata": {},
   "source": [
    "# Convert Caffe Model to Tensorflow\n",
    "\n",
    "This is a somewhat cumbersome process, and I've probably introduced several inefficiencies along the way. However, the final product -- a tensorflow server -- works like a charm. This notebook is primarily concerned with converting a caffe model to a tensorflow 1 protobuf. The notebook that follows this converts the tf1 model into a tf2 servable docker image and tests it. This notebook uses tf1 and the notebook that follows this uses tf2."
   ]
  },
  {
   "cell_type": "markdown",
   "metadata": {},
   "source": [
    "## Dev Environment\n",
    "\n",
    "Before running this notebook, create a new conda environment with python2.7: `conda create --name convert_caffe python=2.7 -y`"
   ]
  },
  {
   "cell_type": "code",
   "execution_count": null,
   "metadata": {},
   "outputs": [],
   "source": [
    "# Important: make sure the right version of tensorflow is installed.\n",
    "! conda install tensorflow==1.15.0 protobuf jupyterlab"
   ]
  },
  {
   "cell_type": "code",
   "execution_count": 1,
   "metadata": {},
   "outputs": [
    {
     "data": {
      "text/plain": [
       "'1.15.0'"
      ]
     },
     "execution_count": 1,
     "metadata": {},
     "output_type": "execute_result"
    }
   ],
   "source": [
    "# Test the installations.\n",
    "import os\n",
    "import tensorflow as tf\n",
    "from tensorflow.python.platform import gfile\n",
    "\n",
    "# Tensorflow 1 should be used -- I have not tested tf2!\n",
    "assert tf.__version__ == '1.15.0'"
   ]
  },
  {
   "cell_type": "markdown",
   "metadata": {},
   "source": [
    "## Model Acquisition\n",
    "\n",
    "I used VGG-16 trained on IMDB Wiki. See the gender section of [this site](https://data.vision.ee.ethz.ch/cvl/rrothe/imdb-wiki/)."
   ]
  },
  {
   "cell_type": "code",
   "execution_count": 2,
   "metadata": {},
   "outputs": [],
   "source": [
    "! curl https://data.vision.ee.ethz.ch/cvl/rrothe/imdb-wiki/static/gender.caffemodel -O"
   ]
  },
  {
   "cell_type": "code",
   "execution_count": null,
   "metadata": {},
   "outputs": [],
   "source": [
    "! curl https://data.vision.ee.ethz.ch/cvl/rrothe/imdb-wiki/static/gender.prototxt -O"
   ]
  },
  {
   "cell_type": "markdown",
   "metadata": {},
   "source": [
    "## Caffe to pb Conversion\n",
    "\n",
    "I followed [this tutorial](https://ndres.me/post/convert-caffe-to-tensorflow/). Here are the relevant commands:"
   ]
  },
  {
   "cell_type": "code",
   "execution_count": null,
   "metadata": {},
   "outputs": [],
   "source": [
    "# Clone the repo\n",
    "! git clone https://github.com/linkfluence/caffe-tensorflow\n",
    "! cd caffe-tensorflow"
   ]
  },
  {
   "cell_type": "code",
   "execution_count": null,
   "metadata": {},
   "outputs": [],
   "source": [
    "# Troubleshooting: you might have to do this:\n",
    "! pip uninstall tensorflow protobuf && pip install tensorflow==1.15.0 protobuf\n",
    "! pip install numpy==1.16.1"
   ]
  },
  {
   "cell_type": "code",
   "execution_count": null,
   "metadata": {},
   "outputs": [],
   "source": [
    "# Takes approx 5 minutes on my crappy Macbook\n",
    "! python convert.py --caffemodel ../gender.caffemodel ../gender.prototxt\n",
    "! --data-output-path ./output.mat --code-output-path ./output2.py --standalone-output-path ./gender_model.pb"
   ]
  },
  {
   "cell_type": "markdown",
   "metadata": {},
   "source": [
    "## Pb to Servable Conversion"
   ]
  },
  {
   "cell_type": "code",
   "execution_count": 34,
   "metadata": {},
   "outputs": [
    {
     "name": "stdout",
     "output_type": "stream",
     "text": [
      "INFO:tensorflow:Assets added to graph.\n",
      "INFO:tensorflow:No assets to write.\n",
      "INFO:tensorflow:SavedModel written to: ./gender_model/saved_model.pb\n"
     ]
    }
   ],
   "source": [
    "# Save the file as a servable.\n",
    "\n",
    "from tensorflow.python.saved_model import signature_constants\n",
    "from tensorflow.python.saved_model import tag_constants\n",
    "\n",
    "export_dir = \"./gender_model\"\n",
    "graph_pb = \"gender_model.pb\"\n",
    "\n",
    "builder = tf.saved_model.builder.SavedModelBuilder(export_dir)\n",
    "\n",
    "with tf.gfile.GFile(graph_pb, \"rb\") as f:\n",
    "    graph_def = tf.GraphDef()\n",
    "    graph_def.ParseFromString(f.read())\n",
    "\n",
    "sigs = {}\n",
    "\n",
    "with tf.Session(graph=tf.Graph()) as sess:\n",
    "    # name=\"\" is important to ensure we don't get spurious prefixing\n",
    "    tf.import_graph_def(graph_def, name=\"\")\n",
    "    g = tf.get_default_graph()\n",
    "    inp = g.get_tensor_by_name(\"data:0\")\n",
    "    out = g.get_tensor_by_name(\"prob:0\")\n",
    "\n",
    "    sigs[signature_constants.DEFAULT_SERVING_SIGNATURE_DEF_KEY] = \\\n",
    "        tf.saved_model.signature_def_utils.predict_signature_def(\n",
    "            {\"in\": inp}, {\"out\": out})\n",
    "    \n",
    "    tf.saved_model.simple_save(sess,\n",
    "            export_dir,\n",
    "            inputs={\"input\": inp},\n",
    "            outputs={\"output\": out})"
   ]
  },
  {
   "cell_type": "markdown",
   "metadata": {},
   "source": [
    "## Next Steps\n",
    "\n",
    "See [the next notebook]() for the remaining steps."
   ]
  }
 ],
 "metadata": {
  "kernelspec": {
   "display_name": "Python 3",
   "language": "python",
   "name": "python3"
  },
  "language_info": {
   "codemirror_mode": {
    "name": "ipython",
    "version": 3
   },
   "file_extension": ".py",
   "mimetype": "text/x-python",
   "name": "python",
   "nbconvert_exporter": "python",
   "pygments_lexer": "ipython3",
   "version": "3.6.10"
  }
 },
 "nbformat": 4,
 "nbformat_minor": 4
}
