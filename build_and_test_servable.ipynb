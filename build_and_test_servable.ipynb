{
 "cells": [
  {
   "cell_type": "markdown",
   "metadata": {},
   "source": [
    "# Build and Test Servable\n",
    "\n",
    "This notebook takes a model that was saved in tf1 and converts it to a tf2 model that is servable and encapsulated in a Docker image. Tests are also run to ensure that nothing was messed up in the conversion process."
   ]
  },
  {
   "cell_type": "markdown",
   "metadata": {},
   "source": [
    "## Development Environment\n",
    "\n",
    "Create a new conda environment with the latest versions of `tensorflow`, `numpy`, `cv2`, and `matplotlib`."
   ]
  },
  {
   "cell_type": "code",
   "execution_count": 1,
   "metadata": {},
   "outputs": [],
   "source": [
    "# Test imports. \n",
    "import tensorflow as tf\n",
    "import numpy as np\n",
    "import cv2\n",
    "from matplotlib import pyplot as plt\n",
    "\n",
    "assert tf.__version__ == \"2.0.0\""
   ]
  },
  {
   "cell_type": "markdown",
   "metadata": {},
   "source": [
    "## Simple Check of the Model\n",
    "\n",
    "Test out the model on a few images just to make sure it's creating reasonable predictions."
   ]
  },
  {
   "cell_type": "code",
   "execution_count": 2,
   "metadata": {},
   "outputs": [
    {
     "name": "stdout",
     "output_type": "stream",
     "text": [
      "INFO:tensorflow:Saver not created because there are no variables in the graph to restore\n"
     ]
    }
   ],
   "source": [
    "model = tf.saved_model.load(\"gender_model\")"
   ]
  },
  {
   "cell_type": "code",
   "execution_count": 3,
   "metadata": {},
   "outputs": [
    {
     "data": {
      "text/plain": [
       "[<tf.Tensor 'data:0' shape=(1, 224, 224, 3) dtype=float32>]"
      ]
     },
     "execution_count": 3,
     "metadata": {},
     "output_type": "execute_result"
    }
   ],
   "source": [
    "model.signatures['serving_default'].inputs"
   ]
  },
  {
   "cell_type": "code",
   "execution_count": 4,
   "metadata": {},
   "outputs": [
    {
     "name": "stdout",
     "output_type": "stream",
     "text": [
      "{'output': <tf.Tensor 'prob:0' shape=(1, 2) dtype=float32>}\n"
     ]
    }
   ],
   "source": [
    "infer = model.signatures[\"serving_default\"]\n",
    "print(infer.structured_outputs)"
   ]
  },
  {
   "cell_type": "code",
   "execution_count": 5,
   "metadata": {},
   "outputs": [],
   "source": [
    "x = np.ones([1, 224, 224, 3]).astype('float32')\n",
    "y = infer(tf.constant(x))"
   ]
  },
  {
   "cell_type": "code",
   "execution_count": 7,
   "metadata": {},
   "outputs": [
    {
     "data": {
      "text/plain": [
       "array([0.31617698, 0.68382293], dtype=float32)"
      ]
     },
     "execution_count": 7,
     "metadata": {},
     "output_type": "execute_result"
    }
   ],
   "source": [
    "y['output'].numpy()[0]"
   ]
  },
  {
   "cell_type": "code",
   "execution_count": 9,
   "metadata": {},
   "outputs": [
    {
     "name": "stdout",
     "output_type": "stream",
     "text": [
      "man1.jpeg\n",
      "[0.00256076 0.99743927]\n",
      "man2.jpeg\n",
      "[0.00449356 0.9955064 ]\n",
      "man3.jpeg\n",
      "[0.00320393 0.9967961 ]\n",
      "man4.jpeg\n",
      "[0.00619051 0.9938095 ]\n",
      "carl.jpg\n",
      "[0.00196772 0.9980323 ]\n",
      "woman1.jpg\n",
      "[0.9972639  0.00273612]\n",
      "woman2.jpeg\n",
      "[0.22375257 0.77624744]\n",
      "woman3.jpeg\n",
      "[0.9957283  0.00427165]\n",
      "woman4.jpeg\n",
      "[0.9678138  0.03218627]\n",
      "jiyoung.jpeg\n",
      "[0.99224126 0.00775879]\n"
     ]
    }
   ],
   "source": [
    "# Grab some pictures from the internet, turn them into tensors, and feed them to the model.\n",
    "# The predictions seem reasonable: it looks like class 1 is female and class 2 is male.\n",
    "for pic in [\"man1.jpeg\", \"man2.jpeg\", \"man3.jpeg\", \"man4.jpeg\", \"carl.jpg\",\n",
    "            \"woman1.jpg\", \"woman2.jpeg\", \"woman3.jpeg\", \"woman4.jpeg\",\n",
    "            \"jiyoung.jpeg\"]:\n",
    "\n",
    "    img = cv2.imread(pic)\n",
    "    img = cv2.resize(img, (224, 224))\n",
    "    img = img.reshape(1, 224, 224, 3).astype('float32')\n",
    "    y = infer(tf.constant(img))\n",
    "    print(pic)\n",
    "    print(y['output'].numpy()[0])"
   ]
  },
  {
   "cell_type": "code",
   "execution_count": 10,
   "metadata": {},
   "outputs": [
    {
     "name": "stdout",
     "output_type": "stream",
     "text": [
      "INFO:tensorflow:Assets written to: ./gender_model_serving/assets\n"
     ]
    }
   ],
   "source": [
    "# Save this as a new SavedModel\n",
    "# https://www.tensorflow.org/guide/saved_model\n",
    "\n",
    "tf.saved_model.save(model, \"./gender_model_serving/1/\")"
   ]
  },
  {
   "cell_type": "markdown",
   "metadata": {},
   "source": [
    "## Convert to tf image\n",
    "\n",
    "Add this model to a tensorflow docker image. This can then be easily deployed online. These commands follow [this documentation](https://www.tensorflow.org/tfx/serving/docker)."
   ]
  },
  {
   "cell_type": "code",
   "execution_count": null,
   "metadata": {},
   "outputs": [],
   "source": [
    "! docker run -d --name serving_base tensorflow/serving\n"
   ]
  },
  {
   "cell_type": "markdown",
   "metadata": {},
   "source": [
    "## Run complete tests\n",
    "\n",
    "Test the converted model against the original, generating the same statistics as in the original paper."
   ]
  },
  {
   "cell_type": "code",
   "execution_count": null,
   "metadata": {},
   "outputs": [],
   "source": []
  }
 ],
 "metadata": {
  "kernelspec": {
   "display_name": "Python 3",
   "language": "python",
   "name": "python3"
  },
  "language_info": {
   "codemirror_mode": {
    "name": "ipython",
    "version": 3
   },
   "file_extension": ".py",
   "mimetype": "text/x-python",
   "name": "python",
   "nbconvert_exporter": "python",
   "pygments_lexer": "ipython3",
   "version": "3.7.7"
  }
 },
 "nbformat": 4,
 "nbformat_minor": 4
}
